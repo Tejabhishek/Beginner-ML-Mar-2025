{
 "cells": [
  {
   "cell_type": "code",
   "execution_count": null,
   "id": "c7962a65-18e0-4d75-b469-fca2272e247a",
   "metadata": {},
   "outputs": [],
   "source": []
  }
 ],
 "metadata": {
  "kernelspec": {
   "display_name": "ML_Beginner_WS",
   "language": "python",
   "name": "ml_beginner_ws"
  },
  "language_info": {
   "codemirror_mode": {
    "name": "ipython",
    "version": 3
   },
   "file_extension": ".py",
   "mimetype": "text/x-python",
   "name": "python",
   "nbconvert_exporter": "python",
   "pygments_lexer": "ipython3",
   "version": "3.12.8"
  }
 },
 "nbformat": 4,
 "nbformat_minor": 5
}
